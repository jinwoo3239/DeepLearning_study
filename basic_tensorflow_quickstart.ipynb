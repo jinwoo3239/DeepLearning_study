{
  "nbformat": 4,
  "nbformat_minor": 0,
  "metadata": {
    "colab": {
      "name": "Untitled0.ipynb",
      "provenance": [],
      "toc_visible": true,
      "authorship_tag": "ABX9TyO2fa5R2PzicUr0SIOj5ClQ",
      "include_colab_link": true
    },
    "kernelspec": {
      "name": "python3",
      "display_name": "Python 3"
    },
    "language_info": {
      "name": "python"
    }
  },
  "cells": [
    {
      "cell_type": "markdown",
      "metadata": {
        "id": "view-in-github",
        "colab_type": "text"
      },
      "source": [
        "<a href=\"https://colab.research.google.com/github/jinwoo3239/DeepLearning_study/blob/main/basic_tensorflow_quickstart.ipynb\" target=\"_parent\"><img src=\"https://colab.research.google.com/assets/colab-badge.svg\" alt=\"Open In Colab\"/></a>"
      ]
    },
    {
      "cell_type": "markdown",
      "source": [
        "Ref: https://www.tensorflow.org/tutorials/quickstart/advance\n",
        "\n",
        "Ref: https://www.tensorflow.org/tutorials/quickstart/beginner"
      ],
      "metadata": {
        "id": "QqjnFrgG5-wg"
      }
    },
    {
      "cell_type": "markdown",
      "source": [
        "# Tensorflow quickstart tutorial"
      ],
      "metadata": {
        "id": "wBXzArfn6GsT"
      }
    },
    {
      "cell_type": "code",
      "source": [
        "import numpy as np\n",
        "import matplotlib.pyplot as plt\n",
        "\n",
        "import tensorflow as tf\n",
        "\n",
        "from tensorflow.keras import datasets\n",
        "\n",
        "from tensorflow.keras import Model, layers\n",
        "from tensorflow.keras.models import Sequential\n",
        "from tensorflow.keras.layers import Dense, Flatten, Conv2D, MaxPool2D\n",
        "from tensorflow.keras.utils import to_categorical"
      ],
      "metadata": {
        "id": "AwRD5rDi6Ki2"
      },
      "execution_count": 105,
      "outputs": []
    },
    {
      "cell_type": "code",
      "source": [
        "print(tf.__version__)"
      ],
      "metadata": {
        "colab": {
          "base_uri": "https://localhost:8080/"
        },
        "id": "h6SnfOkW6gBj",
        "outputId": "16443179-5cb0-4df0-ec70-d1d22bb92330"
      },
      "execution_count": 66,
      "outputs": [
        {
          "output_type": "stream",
          "name": "stdout",
          "text": [
            "2.8.2\n"
          ]
        }
      ]
    },
    {
      "cell_type": "markdown",
      "source": [
        "## Beginner"
      ],
      "metadata": {
        "id": "I-zXejf6ATQO"
      }
    },
    {
      "cell_type": "code",
      "source": [
        "mnist = datasets.mnist\n",
        "(X_train, y_train), (X_test, y_test) = mnist.load_data()\n",
        "\n",
        "print(X_train.shape)"
      ],
      "metadata": {
        "colab": {
          "base_uri": "https://localhost:8080/"
        },
        "id": "BFWhz6bx6lvi",
        "outputId": "e139faf6-fc2e-421c-fa8f-075f9c80682b"
      },
      "execution_count": 67,
      "outputs": [
        {
          "output_type": "stream",
          "name": "stdout",
          "text": [
            "(60000, 28, 28)\n"
          ]
        }
      ]
    },
    {
      "cell_type": "code",
      "source": [
        "y_train_cat = to_categorical(y_train)\n",
        "y_test_cat = to_categorical(y_test)"
      ],
      "metadata": {
        "id": "Azv3tfmSARWS"
      },
      "execution_count": 68,
      "outputs": []
    },
    {
      "cell_type": "code",
      "source": [
        "model = Sequential()\n",
        "model.add(tf.keras.layers.Flatten(input_shape=(28, 28)))\n",
        "model.add(layers.Dense(64, activation='relu'))\n",
        "model.add(layers.Dense(32, activation='relu'))\n",
        "model.add(layers.Dense(10, activation='softmax'))\n",
        "\n",
        "# model = Sequential([layers.Flatten(),\n",
        "#                     layers.Dense(128),\n",
        "#                     layers.Dense(10)])"
      ],
      "metadata": {
        "id": "TMi0BXm2AReb"
      },
      "execution_count": 98,
      "outputs": []
    },
    {
      "cell_type": "code",
      "source": [
        "model.summary()"
      ],
      "metadata": {
        "colab": {
          "base_uri": "https://localhost:8080/"
        },
        "id": "w6B1rV6-Fhgw",
        "outputId": "f0daebe7-489e-4c8f-ae86-6d4b52bb3f62"
      },
      "execution_count": 99,
      "outputs": [
        {
          "output_type": "stream",
          "name": "stdout",
          "text": [
            "Model: \"sequential_7\"\n",
            "_________________________________________________________________\n",
            " Layer (type)                Output Shape              Param #   \n",
            "=================================================================\n",
            " flatten_7 (Flatten)         (None, 784)               0         \n",
            "                                                                 \n",
            " dense_13 (Dense)            (None, 64)                50240     \n",
            "                                                                 \n",
            " dense_14 (Dense)            (None, 32)                2080      \n",
            "                                                                 \n",
            " dense_15 (Dense)            (None, 10)                330       \n",
            "                                                                 \n",
            "=================================================================\n",
            "Total params: 52,650\n",
            "Trainable params: 52,650\n",
            "Non-trainable params: 0\n",
            "_________________________________________________________________\n"
          ]
        }
      ]
    },
    {
      "cell_type": "code",
      "source": [
        "# loss_fn = tf.keras.losses.CategoricalCrossentropy() # y_train to one_hot_encoding\n",
        "loss_fn = tf.keras.losses.SparseCategoricalCrossentropy()\n",
        "callbacks_list = [tf.keras.callbacks.EarlyStopping(monitor='val_loss', patience=3)]\n",
        "\n",
        "model.compile(optimizer='rmsprop', loss=loss_fn, metrics=['accuracy'])"
      ],
      "metadata": {
        "id": "1PDwAF-HARkT"
      },
      "execution_count": 100,
      "outputs": []
    },
    {
      "cell_type": "code",
      "source": [
        "history = model.fit(X_train, y_train,  batch_size=32, epochs=10, validation_split=0.2, callbacks=callbacks_list)"
      ],
      "metadata": {
        "colab": {
          "base_uri": "https://localhost:8080/"
        },
        "id": "7DoXg111ARpk",
        "outputId": "9300ad8b-d087-4293-bf51-4399dc6a1ffe"
      },
      "execution_count": 101,
      "outputs": [
        {
          "output_type": "stream",
          "name": "stdout",
          "text": [
            "Epoch 1/10\n",
            "1500/1500 [==============================] - 6s 4ms/step - loss: 1.9112 - accuracy: 0.8134 - val_loss: 0.4728 - val_accuracy: 0.9083\n",
            "Epoch 2/10\n",
            "1500/1500 [==============================] - 4s 2ms/step - loss: 0.4377 - accuracy: 0.9134 - val_loss: 0.3465 - val_accuracy: 0.9293\n",
            "Epoch 3/10\n",
            "1500/1500 [==============================] - 4s 3ms/step - loss: 0.3530 - accuracy: 0.9339 - val_loss: 0.3709 - val_accuracy: 0.9389\n",
            "Epoch 4/10\n",
            "1500/1500 [==============================] - 4s 2ms/step - loss: 0.3157 - accuracy: 0.9412 - val_loss: 0.3378 - val_accuracy: 0.9452\n",
            "Epoch 5/10\n",
            "1500/1500 [==============================] - 4s 3ms/step - loss: 0.2698 - accuracy: 0.9483 - val_loss: 0.3069 - val_accuracy: 0.9459\n",
            "Epoch 6/10\n",
            "1500/1500 [==============================] - 4s 3ms/step - loss: 0.2454 - accuracy: 0.9516 - val_loss: 0.2948 - val_accuracy: 0.9427\n",
            "Epoch 7/10\n",
            "1500/1500 [==============================] - 4s 3ms/step - loss: 0.2460 - accuracy: 0.9517 - val_loss: 0.2701 - val_accuracy: 0.9468\n",
            "Epoch 8/10\n",
            "1500/1500 [==============================] - 4s 3ms/step - loss: 0.2284 - accuracy: 0.9556 - val_loss: 0.3598 - val_accuracy: 0.9536\n",
            "Epoch 9/10\n",
            "1500/1500 [==============================] - 4s 3ms/step - loss: 0.2279 - accuracy: 0.9559 - val_loss: 0.3041 - val_accuracy: 0.9524\n",
            "Epoch 10/10\n",
            "1500/1500 [==============================] - 5s 3ms/step - loss: 0.2189 - accuracy: 0.9593 - val_loss: 0.2747 - val_accuracy: 0.9538\n"
          ]
        }
      ]
    },
    {
      "cell_type": "code",
      "source": [
        "plt.figure(figsize=(5, 3))\n",
        "plt.plot(history.epoch, history.history['accuracy'], marker='o', c='r')\n",
        "plt.plot(history.epoch, history.history['val_accuracy'], marker='v', c='b')\n",
        "plt.show();"
      ],
      "metadata": {
        "colab": {
          "base_uri": "https://localhost:8080/",
          "height": 211
        },
        "id": "mHH1dAQVARuy",
        "outputId": "6ab63790-8c81-47eb-de14-2db91c5e4dda"
      },
      "execution_count": 102,
      "outputs": [
        {
          "output_type": "display_data",
          "data": {
            "text/plain": [
              "<Figure size 360x216 with 1 Axes>"
            ],
            "image/png": "[encoded data removed]"
          },
          "metadata": {
            "needs_background": "light"
          }
        }
      ]
    },
    {
      "cell_type": "code",
      "source": [
        "model.evaluate(X_test, y_test)"
      ],
      "metadata": {
        "colab": {
          "base_uri": "https://localhost:8080/"
        },
        "id": "zUi-sudNAR0B",
        "outputId": "818e9a52-b871-4057-dd94-7658ae9779df"
      },
      "execution_count": 79,
      "outputs": [
        {
          "output_type": "stream",
          "name": "stdout",
          "text": [
            "313/313 [==============================] - 1s 2ms/step - loss: 0.6546 - accuracy: 0.9461\n"
          ]
        },
        {
          "output_type": "execute_result",
          "data": {
            "text/plain": [
              "[0.6545969843864441, 0.9460999965667725]"
            ]
          },
          "metadata": {},
          "execution_count": 79
        }
      ]
    },
    {
      "cell_type": "code",
      "source": [
        "plt.figure(figsize=(3, 3))\n",
        "plt.imshow(X_test[0], cmap='gray')\n",
        "predict_label = model.predict(X_test[0][np.newaxis, :])\n",
        "predict_label = tf.argmax(predict_label, axis=1)\n",
        "\n",
        "plt.title(f'prediction = {predict_label}')\n",
        "\n",
        "plt.show();"
      ],
      "metadata": {
        "colab": {
          "base_uri": "https://localhost:8080/",
          "height": 227
        },
        "id": "8vEwzFzyAR5K",
        "outputId": "c13b61aa-cf2e-4913-928b-000a06885e66"
      },
      "execution_count": 97,
      "outputs": [
        {
          "output_type": "display_data",
          "data": {
            "text/plain": [
              "<Figure size 216x216 with 1 Axes>"
            ],
            "image/png": "[encoded data removed]"
          },
          "metadata": {
            "needs_background": "light"
          }
        }
      ]
    },
    {
      "cell_type": "markdown",
      "source": [
        "## Quickstart for expert"
      ],
      "metadata": {
        "id": "jZ562lNvASI6"
      }
    },
    {
      "cell_type": "code",
      "source": [
        "(X_train, y_train), (X_test, y_test) = mnist.load_data()\n",
        "\n",
        "X_train = tf.expand_dims(X_train, -1)\n",
        "X_test = tf.expand_dims(X_test, -1)\n",
        "\n",
        "X_train = tf.cast(X_train, dtype=tf.float32)\n",
        "X_test = tf.cast(X_test, dtype=tf.float32)\n",
        "\n",
        "print(X_train.shape)"
      ],
      "metadata": {
        "colab": {
          "base_uri": "https://localhost:8080/"
        },
        "id": "eEoeoF2q66Sr",
        "outputId": "50e183c6-8c90-4034-8160-f18d8eab2435"
      },
      "execution_count": 154,
      "outputs": [
        {
          "output_type": "stream",
          "name": "stdout",
          "text": [
            "(60000, 28, 28, 1)\n"
          ]
        }
      ]
    },
    {
      "cell_type": "code",
      "source": [
        "train_ds = tf.data.Dataset.from_tensor_slices((X_train, y_train)).shuffle(len(X_train)).batch(32)\n",
        "test_ds = tf.data.Dataset.from_tensor_slices((X_test, y_test)).batch(32)"
      ],
      "metadata": {
        "id": "853Oo_DM7BAe"
      },
      "execution_count": 155,
      "outputs": []
    },
    {
      "cell_type": "code",
      "source": [
        "class MyModel(Model):\n",
        "    def __init__(self, ):\n",
        "        super(MyModel, self).__init__()\n",
        "        self.conv1 = Conv2D(32, kernel_size=3, activation='relu')\n",
        "        self.pool =  MaxPool2D(2)\n",
        "        self.flatten = Flatten()\n",
        "        self.dense1 = Dense(128, activation='relu')\n",
        "        self.dense2 = Dense(10, activation='softmax')\n",
        "\n",
        "    def call(self, x):\n",
        "        x = self.conv1(x)\n",
        "        x = self.pool(x)\n",
        "        x = self.flatten(x)\n",
        "        x = self.dense1(x)\n",
        "        output = self.dense2(x)\n",
        "        return output\n",
        "\n",
        "model = MyModel()"
      ],
      "metadata": {
        "id": "MPkXBuuh-GRX"
      },
      "execution_count": 156,
      "outputs": []
    },
    {
      "cell_type": "code",
      "source": [
        "loss_fn = tf.keras.losses.SparseCategoricalCrossentropy()\n",
        "optimizer = tf.keras.optimizers.Adam()\n",
        "\n",
        "train_loss = tf.keras.metrics.Mean(name='train_loss') # loss mean \n",
        "train_accuracy = tf.keras.metrics.SparseCategoricalAccuracy(name='train_accuracy')\n",
        "\n",
        "test_loss = tf.keras.metrics.Mean(name='test_loss') # loss mean \n",
        "test_accuracy = tf.keras.metrics.SparseCategoricalAccuracy(name='test_accuracy')"
      ],
      "metadata": {
        "id": "Oi7t2m21W4X7"
      },
      "execution_count": 157,
      "outputs": []
    },
    {
      "cell_type": "code",
      "source": [
        "def train_step(images, labels, model):\n",
        "    with tf.GradientTape() as tape:\n",
        "        predictions = model(images, training=True)\n",
        "        loss = loss_fn(labels, predictions)\n",
        "    gradients = tape.gradient(loss, model.trainable_variables)\n",
        "    optimizer.apply_gradients(zip(gradients, model.trainable_variables))\n",
        "\n",
        "    train_loss(loss)\n",
        "    train_accuracy(labels, predictions)"
      ],
      "metadata": {
        "id": "s8STZ1EBY2L-"
      },
      "execution_count": 161,
      "outputs": []
    },
    {
      "cell_type": "code",
      "source": [
        "def test_step(images, labels, model):\n",
        "\n",
        "    predictions = model(images, training=False)\n",
        "    loss = loss_fn(labels, predictions)\n",
        "\n",
        "    test_loss(loss)\n",
        "    test_accuracy(labels, predictions)"
      ],
      "metadata": {
        "id": "_0Z8bqf6Y2fj"
      },
      "execution_count": 162,
      "outputs": []
    },
    {
      "cell_type": "code",
      "source": [
        "EPOCHS = 5\n",
        "\n",
        "for epoch in range(EPOCHS):\n",
        "  # Reset the metrics at the start of the next epoch\n",
        "  train_loss.reset_states()\n",
        "  train_accuracy.reset_states()\n",
        "  test_loss.reset_states()\n",
        "  test_accuracy.reset_states()\n",
        "\n",
        "  for images, labels in train_ds:\n",
        "    train_step(images, labels, model)\n",
        "\n",
        "  for test_images, test_labels in test_ds:\n",
        "    test_step(test_images, test_labels, model)\n",
        "\n",
        "  print(\n",
        "    f'Epoch {epoch + 1}, ',\n",
        "    f'Loss: {train_loss.result()}, ',\n",
        "    f'Accuracy: {train_accuracy.result() * 100}, ',\n",
        "    f'Test Loss: {test_loss.result()}, ',\n",
        "    f'Test Accuracy: {test_accuracy.result() * 100}')"
      ],
      "metadata": {
        "colab": {
          "base_uri": "https://localhost:8080/"
        },
        "id": "fu5dHXkdY2mh",
        "outputId": "cf50c892-ae9e-48d3-8326-4c4905ecc770"
      },
      "execution_count": 163,
      "outputs": [
        {
          "output_type": "stream",
          "name": "stdout",
          "text": [
            "Epoch 1,  Loss: 0.5457281470298767,  Accuracy: 93.91166687011719,  Test Loss: 0.10491327941417694,  Test Accuracy: 96.97999572753906\n",
            "Epoch 2,  Loss: 0.07047776132822037,  Accuracy: 97.9183349609375,  Test Loss: 0.10328485071659088,  Test Accuracy: 97.27999877929688\n",
            "Epoch 3,  Loss: 0.057260606437921524,  Accuracy: 98.288330078125,  Test Loss: 0.09690167009830475,  Test Accuracy: 97.37999725341797\n",
            "Epoch 4,  Loss: 0.042133741080760956,  Accuracy: 98.68333435058594,  Test Loss: 0.09789884090423584,  Test Accuracy: 97.61000061035156\n",
            "Epoch 5,  Loss: 0.0360015369951725,  Accuracy: 98.88500213623047,  Test Loss: 0.10449635237455368,  Test Accuracy: 97.64999389648438\n"
          ]
        }
      ]
    }
  ]
}