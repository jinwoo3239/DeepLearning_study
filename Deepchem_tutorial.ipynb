{
  "nbformat": 4,
  "nbformat_minor": 0,
  "metadata": {
    "colab": {
      "name": "Deepchem_tutorial.ipynb",
      "provenance": [],
      "toc_visible": true,
      "authorship_tag": "ABX9TyMpDRVOXkPHaS0nR6KrI0KI",
      "include_colab_link": true
    },
    "kernelspec": {
      "name": "python3",
      "display_name": "Python 3"
    },
    "language_info": {
      "name": "python"
    }
  },
  "cells": [
    {
      "cell_type": "markdown",
      "metadata": {
        "id": "view-in-github",
        "colab_type": "text"
      },
      "source": [
        "<a href=\"https://colab.research.google.com/github/jinwoo3239/DeepLearning_study/blob/main/Deepchem_tutorial.ipynb\" target=\"_parent\"><img src=\"https://colab.research.google.com/assets/colab-badge.svg\" alt=\"Open In Colab\"/></a>"
      ]
    },
    {
      "cell_type": "markdown",
      "source": [
        "# DeepChem tutorial\n",
        "\n",
        "[reference1](https://github.com/StillWork/AIDD-2208-add/blob/main/c_83_2_Datasets_MoleculeNet.ipynb)  \n",
        "[reference2](https://github.com/deepchem/deepchem/tree/master/examples/tutorials)"
      ],
      "metadata": {
        "id": "Y3KtpnD4csDD"
      }
    },
    {
      "cell_type": "code",
      "source": [
        "!pip install deepchem"
      ],
      "metadata": {
        "colab": {
          "base_uri": "https://localhost:8080/"
        },
        "id": "5pRhkrimd1fu",
        "outputId": "0d359321-3874-4f17-a18d-f497094c404b"
      },
      "execution_count": 1,
      "outputs": [
        {
          "output_type": "stream",
          "name": "stdout",
          "text": [
            "Looking in indexes: https://pypi.org/simple, https://us-python.pkg.dev/colab-wheels/public/simple/\n",
            "Collecting deepchem\n",
            "  Downloading deepchem-2.6.1-py3-none-any.whl (608 kB)\n",
            "\u001b[K     |████████████████████████████████| 608 kB 5.1 MB/s \n",
            "\u001b[?25hRequirement already satisfied: joblib in /usr/local/lib/python3.7/dist-packages (from deepchem) (1.1.0)\n",
            "Requirement already satisfied: scikit-learn in /usr/local/lib/python3.7/dist-packages (from deepchem) (1.0.2)\n",
            "Requirement already satisfied: scipy in /usr/local/lib/python3.7/dist-packages (from deepchem) (1.7.3)\n",
            "Collecting rdkit-pypi\n",
            "  Downloading rdkit_pypi-2022.3.5-cp37-cp37m-manylinux_2_17_x86_64.manylinux2014_x86_64.whl (36.8 MB)\n",
            "\u001b[K     |████████████████████████████████| 36.8 MB 37 kB/s \n",
            "\u001b[?25hRequirement already satisfied: numpy>=1.21 in /usr/local/lib/python3.7/dist-packages (from deepchem) (1.21.6)\n",
            "Requirement already satisfied: pandas in /usr/local/lib/python3.7/dist-packages (from deepchem) (1.3.5)\n",
            "Requirement already satisfied: pytz>=2017.3 in /usr/local/lib/python3.7/dist-packages (from pandas->deepchem) (2022.2.1)\n",
            "Requirement already satisfied: python-dateutil>=2.7.3 in /usr/local/lib/python3.7/dist-packages (from pandas->deepchem) (2.8.2)\n",
            "Requirement already satisfied: six>=1.5 in /usr/local/lib/python3.7/dist-packages (from python-dateutil>=2.7.3->pandas->deepchem) (1.15.0)\n",
            "Requirement already satisfied: Pillow in /usr/local/lib/python3.7/dist-packages (from rdkit-pypi->deepchem) (7.1.2)\n",
            "Requirement already satisfied: threadpoolctl>=2.0.0 in /usr/local/lib/python3.7/dist-packages (from scikit-learn->deepchem) (3.1.0)\n",
            "Installing collected packages: rdkit-pypi, deepchem\n",
            "Successfully installed deepchem-2.6.1 rdkit-pypi-2022.3.5\n"
          ]
        }
      ]
    },
    {
      "cell_type": "code",
      "source": [
        "import rdkit\n",
        "from rdkit import Chem\n",
        "from rdkit.Chem import AllChem, Draw, Descriptors\n",
        "\n",
        "from rdkit.Chem.Draw import IPythonConsole\n",
        "\n",
        "import deepchem as dc"
      ],
      "metadata": {
        "id": "OXdp2cOpeBTH"
      },
      "execution_count": 2,
      "outputs": []
    },
    {
      "cell_type": "markdown",
      "source": [
        "##Understanding `Datasets` in Deepchem\n",
        "- `task, datasets, transforms = deepchem.molnet.load_dataset()`\n",
        "- load_delaney() options\n",
        "    - **featurizer**  \n",
        "        - 'ECFP', 'GraphConv', 'Weave', 'smiles2img' 등을 선택할 수 있으며 각각 `dc.feat.CircularFingerprint`, `dc.feat.ConvMolFeaturizer`, `dc.feat.WeaveFeaturizer` and `dc.feat.SmilesToImage` 특성화기를 선택한다\n",
        "\n",
        "    - **splitter**  \n",
        "        - `None`, 'index', 'random', 'scaffold' and 'stratified' 등을 선택할 수 있으며 각각 no split, `dc.splits.IndexSplitter`, `dc.splits.RandomSplitter`, `dc.splits.SingletaskStratifiedSplitter`를 선택한다\n",
        "\n",
        "- load_delaney() return values\n",
        " - `tasks`: 단일 또는 다중작업 이름을 알려준다 (타겟 작업이 무엇인지)\n",
        " - `datasets`: `dc.data.Dataset` 객체를 나타내며 `(train, valid, test)` 세 부분으로 나누어준다\n",
        " - `transformers`: `dc.trans.Transformer` 객체로서 전처리 방법을 알려준다"
      ],
      "metadata": {
        "id": "ro0tkMg8dOcD"
      }
    },
    {
      "cell_type": "markdown",
      "source": [
        "- `DiskDataset` is a dataset that has been saved to disk.  \n",
        "- `NumpyDataset` is an in-memory dataset that holds all the data in NumPy arrays.  \n",
        "- `ImageDataset` stores image files on disk. \n",
        "\n",
        "- Every Dataset stores a list of *samples*.  In this case, each sample is a molecule.  \n",
        "- For every sample the dataset stores the following information.\n",
        "\n",
        " - The *features*, referred to as `X`.  \n",
        " - The *labels*, referred to as `y`.  \n",
        " - The *weights*, referred to as `w` - This can be used to indicate that some data values are more important than others.  \n",
        " - An *ID*, is a unique identifier for the sample.  This can be anything as long as it is unique.  \bIn this dataset the ID is a SMILES string describing the molecule.\n",
        "\n",
        " - Notice that `X`, `y`, and `w` all have 113 as the size of their first dimension. \n",
        "\n",
        " - `task_names`.  Some datasets contain multiple pieces of information for each sample.  For example, if a sample represents a molecule, the dataset might record the results of several different experiments on that molecule.  \n",
        " - This dataset has only a single task: \"measured log solubility in mols per litre\".  \n",
        " - Also notice that `y` and `w` each have shape (113, 1).  The second dimension of these arrays usually matches the number of tasks.\n"
      ],
      "metadata": {
        "id": "T1DFuL43gPp4"
      }
    },
    {
      "cell_type": "code",
      "source": [
        "task, datasets, transforms = dc.molnet.load_delaney(featurizer='GraphConv')"
      ],
      "metadata": {
        "id": "gS2lkZDEdwID"
      },
      "execution_count": 3,
      "outputs": []
    },
    {
      "cell_type": "code",
      "source": [
        "print(f'task = {task}')\n",
        "print(f'transforms = {transforms}')"
      ],
      "metadata": {
        "colab": {
          "base_uri": "https://localhost:8080/"
        },
        "id": "f9QaIt_cfiyi",
        "outputId": "c6e6d514-a5ad-4a0e-9786-8090eb29dd66"
      },
      "execution_count": 5,
      "outputs": [
        {
          "output_type": "stream",
          "name": "stdout",
          "text": [
            "task = ['measured log solubility in mols per litre']\n",
            "transforms = [<deepchem.trans.transformers.NormalizationTransformer object at 0x7feb915eebd0>]\n"
          ]
        }
      ]
    },
    {
      "cell_type": "code",
      "source": [
        "train_dataset, val_dataset, test_dataset = datasets"
      ],
      "metadata": {
        "id": "OqfZY1MWf3pd"
      },
      "execution_count": 7,
      "outputs": []
    },
    {
      "cell_type": "code",
      "source": [
        "train_dataset"
      ],
      "metadata": {
        "colab": {
          "base_uri": "https://localhost:8080/"
        },
        "id": "wEyONtIRgAZY",
        "outputId": "bcd1ee48-0f81-4ba2-9bc5-e8386deacefc"
      },
      "execution_count": 8,
      "outputs": [
        {
          "output_type": "execute_result",
          "data": {
            "text/plain": [
              "<DiskDataset X.shape: (902,), y.shape: (902, 1), w.shape: (902, 1), ids: ['CC(C)=CCCC(C)=CC(=O)' 'CCCC=C' 'CCCCCCCCCCCCCC' ...\n",
              " 'Nc2cccc3nc1ccccc1cc23 ' 'C1CCCCCC1' 'OC1CCCCCC1'], task_names: ['measured log solubility in mols per litre']>"
            ]
          },
          "metadata": {},
          "execution_count": 8
        }
      ]
    },
    {
      "cell_type": "code",
      "source": [
        "train_dataset.to_dataframe()"
      ],
      "metadata": {
        "colab": {
          "base_uri": "https://localhost:8080/",
          "height": 424
        },
        "id": "v1IAflGagMc4",
        "outputId": "06fc8cb4-3615-4882-b69f-697bee834a60"
      },
      "execution_count": 11,
      "outputs": [
        {
          "output_type": "execute_result",
          "data": {
            "text/plain": [
              "                                                     X         y    w  \\\n",
              "0    <deepchem.feat.mol_graphs.ConvMol object at 0x...  0.390413  1.0   \n",
              "1    <deepchem.feat.mol_graphs.ConvMol object at 0x...  0.090421  1.0   \n",
              "2    <deepchem.feat.mol_graphs.ConvMol object at 0x... -2.464346  1.0   \n",
              "3    <deepchem.feat.mol_graphs.ConvMol object at 0x...  0.704920  1.0   \n",
              "4    <deepchem.feat.mol_graphs.ConvMol object at 0x...  1.159746  1.0   \n",
              "..                                                 ...       ...  ...   \n",
              "897  <deepchem.feat.mol_graphs.ConvMol object at 0x... -0.649881  1.0   \n",
              "898  <deepchem.feat.mol_graphs.ConvMol object at 0x... -0.388598  1.0   \n",
              "899  <deepchem.feat.mol_graphs.ConvMol object at 0x... -0.654719  1.0   \n",
              "900  <deepchem.feat.mol_graphs.ConvMol object at 0x... -0.311180  1.0   \n",
              "901  <deepchem.feat.mol_graphs.ConvMol object at 0x...  0.961365  1.0   \n",
              "\n",
              "                                                   ids  \n",
              "0                                 CC(C)=CCCC(C)=CC(=O)  \n",
              "1                                               CCCC=C  \n",
              "2                                       CCCCCCCCCCCCCC  \n",
              "3                                              CC(C)Cl  \n",
              "4                                             CCC(C)CO  \n",
              "..                                                 ...  \n",
              "897  CC(=O)OCC(=O)C3(O)CCC4C2CCC1=CC(=O)CCC1(C)C2C(...  \n",
              "898                               c3ccc2nc1ccccc1cc2c3  \n",
              "899                             Nc2cccc3nc1ccccc1cc23   \n",
              "900                                          C1CCCCCC1  \n",
              "901                                         OC1CCCCCC1  \n",
              "\n",
              "[902 rows x 4 columns]"
            ],
            "text/html": [
              "\n",
              "  <div id=\"df-734cafdc-b8cd-46af-b34a-9236a85e8f3a\">\n",
              "    <div class=\"colab-df-container\">\n",
              "      <div>\n",
              "<style scoped>\n",
              "    .dataframe tbody tr th:only-of-type {\n",
              "        vertical-align: middle;\n",
              "    }\n",
              "\n",
              "    .dataframe tbody tr th {\n",
              "        vertical-align: top;\n",
              "    }\n",
              "\n",
              "    .dataframe thead th {\n",
              "        text-align: right;\n",
              "    }\n",
              "</style>\n",
              "<table border=\"1\" class=\"dataframe\">\n",
              "  <thead>\n",
              "    <tr style=\"text-align: right;\">\n",
              "      <th></th>\n",
              "      <th>X</th>\n",
              "      <th>y</th>\n",
              "      <th>w</th>\n",
              "      <th>ids</th>\n",
              "    </tr>\n",
              "  </thead>\n",
              "  <tbody>\n",
              "    <tr>\n",
              "      <th>0</th>\n",
              "      <td>&lt;deepchem.feat.mol_graphs.ConvMol object at 0x...</td>\n",
              "      <td>0.390413</td>\n",
              "      <td>1.0</td>\n",
              "      <td>CC(C)=CCCC(C)=CC(=O)</td>\n",
              "    </tr>\n",
              "    <tr>\n",
              "      <th>1</th>\n",
              "      <td>&lt;deepchem.feat.mol_graphs.ConvMol object at 0x...</td>\n",
              "      <td>0.090421</td>\n",
              "      <td>1.0</td>\n",
              "      <td>CCCC=C</td>\n",
              "    </tr>\n",
              "    <tr>\n",
              "      <th>2</th>\n",
              "      <td>&lt;deepchem.feat.mol_graphs.ConvMol object at 0x...</td>\n",
              "      <td>-2.464346</td>\n",
              "      <td>1.0</td>\n",
              "      <td>CCCCCCCCCCCCCC</td>\n",
              "    </tr>\n",
              "    <tr>\n",
              "      <th>3</th>\n",
              "      <td>&lt;deepchem.feat.mol_graphs.ConvMol object at 0x...</td>\n",
              "      <td>0.704920</td>\n",
              "      <td>1.0</td>\n",
              "      <td>CC(C)Cl</td>\n",
              "    </tr>\n",
              "    <tr>\n",
              "      <th>4</th>\n",
              "      <td>&lt;deepchem.feat.mol_graphs.ConvMol object at 0x...</td>\n",
              "      <td>1.159746</td>\n",
              "      <td>1.0</td>\n",
              "      <td>CCC(C)CO</td>\n",
              "    </tr>\n",
              "    <tr>\n",
              "      <th>...</th>\n",
              "      <td>...</td>\n",
              "      <td>...</td>\n",
              "      <td>...</td>\n",
              "      <td>...</td>\n",
              "    </tr>\n",
              "    <tr>\n",
              "      <th>897</th>\n",
              "      <td>&lt;deepchem.feat.mol_graphs.ConvMol object at 0x...</td>\n",
              "      <td>-0.649881</td>\n",
              "      <td>1.0</td>\n",
              "      <td>CC(=O)OCC(=O)C3(O)CCC4C2CCC1=CC(=O)CCC1(C)C2C(...</td>\n",
              "    </tr>\n",
              "    <tr>\n",
              "      <th>898</th>\n",
              "      <td>&lt;deepchem.feat.mol_graphs.ConvMol object at 0x...</td>\n",
              "      <td>-0.388598</td>\n",
              "      <td>1.0</td>\n",
              "      <td>c3ccc2nc1ccccc1cc2c3</td>\n",
              "    </tr>\n",
              "    <tr>\n",
              "      <th>899</th>\n",
              "      <td>&lt;deepchem.feat.mol_graphs.ConvMol object at 0x...</td>\n",
              "      <td>-0.654719</td>\n",
              "      <td>1.0</td>\n",
              "      <td>Nc2cccc3nc1ccccc1cc23</td>\n",
              "    </tr>\n",
              "    <tr>\n",
              "      <th>900</th>\n",
              "      <td>&lt;deepchem.feat.mol_graphs.ConvMol object at 0x...</td>\n",
              "      <td>-0.311180</td>\n",
              "      <td>1.0</td>\n",
              "      <td>C1CCCCCC1</td>\n",
              "    </tr>\n",
              "    <tr>\n",
              "      <th>901</th>\n",
              "      <td>&lt;deepchem.feat.mol_graphs.ConvMol object at 0x...</td>\n",
              "      <td>0.961365</td>\n",
              "      <td>1.0</td>\n",
              "      <td>OC1CCCCCC1</td>\n",
              "    </tr>\n",
              "  </tbody>\n",
              "</table>\n",
              "<p>902 rows × 4 columns</p>\n",
              "</div>\n",
              "      <button class=\"colab-df-convert\" onclick=\"convertToInteractive('df-734cafdc-b8cd-46af-b34a-9236a85e8f3a')\"\n",
              "              title=\"Convert this dataframe to an interactive table.\"\n",
              "              style=\"display:none;\">\n",
              "        \n",
              "  <svg xmlns=\"http://www.w3.org/2000/svg\" height=\"24px\"viewBox=\"0 0 24 24\"\n",
              "       width=\"24px\">\n",
              "    <path d=\"M0 0h24v24H0V0z\" fill=\"none\"/>\n",
              "    <path d=\"M18.56 5.44l.94 2.06.94-2.06 2.06-.94-2.06-.94-.94-2.06-.94 2.06-2.06.94zm-11 1L8.5 8.5l.94-2.06 2.06-.94-2.06-.94L8.5 2.5l-.94 2.06-2.06.94zm10 10l.94 2.06.94-2.06 2.06-.94-2.06-.94-.94-2.06-.94 2.06-2.06.94z\"/><path d=\"M17.41 7.96l-1.37-1.37c-.4-.4-.92-.59-1.43-.59-.52 0-1.04.2-1.43.59L10.3 9.45l-7.72 7.72c-.78.78-.78 2.05 0 2.83L4 21.41c.39.39.9.59 1.41.59.51 0 1.02-.2 1.41-.59l7.78-7.78 2.81-2.81c.8-.78.8-2.07 0-2.86zM5.41 20L4 18.59l7.72-7.72 1.47 1.35L5.41 20z\"/>\n",
              "  </svg>\n",
              "      </button>\n",
              "      \n",
              "  <style>\n",
              "    .colab-df-container {\n",
              "      display:flex;\n",
              "      flex-wrap:wrap;\n",
              "      gap: 12px;\n",
              "    }\n",
              "\n",
              "    .colab-df-convert {\n",
              "      background-color: #E8F0FE;\n",
              "      border: none;\n",
              "      border-radius: 50%;\n",
              "      cursor: pointer;\n",
              "      display: none;\n",
              "      fill: #1967D2;\n",
              "      height: 32px;\n",
              "      padding: 0 0 0 0;\n",
              "      width: 32px;\n",
              "    }\n",
              "\n",
              "    .colab-df-convert:hover {\n",
              "      background-color: #E2EBFA;\n",
              "      box-shadow: 0px 1px 2px rgba(60, 64, 67, 0.3), 0px 1px 3px 1px rgba(60, 64, 67, 0.15);\n",
              "      fill: #174EA6;\n",
              "    }\n",
              "\n",
              "    [theme=dark] .colab-df-convert {\n",
              "      background-color: #3B4455;\n",
              "      fill: #D2E3FC;\n",
              "    }\n",
              "\n",
              "    [theme=dark] .colab-df-convert:hover {\n",
              "      background-color: #434B5C;\n",
              "      box-shadow: 0px 1px 3px 1px rgba(0, 0, 0, 0.15);\n",
              "      filter: drop-shadow(0px 1px 2px rgba(0, 0, 0, 0.3));\n",
              "      fill: #FFFFFF;\n",
              "    }\n",
              "  </style>\n",
              "\n",
              "      <script>\n",
              "        const buttonEl =\n",
              "          document.querySelector('#df-734cafdc-b8cd-46af-b34a-9236a85e8f3a button.colab-df-convert');\n",
              "        buttonEl.style.display =\n",
              "          google.colab.kernel.accessAllowed ? 'block' : 'none';\n",
              "\n",
              "        async function convertToInteractive(key) {\n",
              "          const element = document.querySelector('#df-734cafdc-b8cd-46af-b34a-9236a85e8f3a');\n",
              "          const dataTable =\n",
              "            await google.colab.kernel.invokeFunction('convertToInteractive',\n",
              "                                                     [key], {});\n",
              "          if (!dataTable) return;\n",
              "\n",
              "          const docLinkHtml = 'Like what you see? Visit the ' +\n",
              "            '<a target=\"_blank\" href=https://colab.research.google.com/notebooks/data_table.ipynb>data table notebook</a>'\n",
              "            + ' to learn more about interactive tables.';\n",
              "          element.innerHTML = '';\n",
              "          dataTable['output_type'] = 'display_data';\n",
              "          await google.colab.output.renderOutput(dataTable, element);\n",
              "          const docLink = document.createElement('div');\n",
              "          docLink.innerHTML = docLinkHtml;\n",
              "          element.appendChild(docLink);\n",
              "        }\n",
              "      </script>\n",
              "    </div>\n",
              "  </div>\n",
              "  "
            ]
          },
          "metadata": {},
          "execution_count": 11
        }
      ]
    },
    {
      "cell_type": "code",
      "source": [
        "for X, y, w, ids in test_dataset.itersamples():\n",
        "    print(y, ids)\n",
        "    break"
      ],
      "metadata": {
        "colab": {
          "base_uri": "https://localhost:8080/"
        },
        "id": "m9UFpMzmgbS_",
        "outputId": "0253291e-516b-453b-eb94-8bad9e88e6b1"
      },
      "execution_count": 12,
      "outputs": [
        {
          "output_type": "stream",
          "name": "stdout",
          "text": [
            "[-1.60114461] c1cc2ccc3cccc4ccc(c1)c2c34\n"
          ]
        }
      ]
    },
    {
      "cell_type": "code",
      "source": [
        "for X, y, w, ids in test_dataset.iterbatches(batch_size=50):\n",
        "    print(y.shape)"
      ],
      "metadata": {
        "colab": {
          "base_uri": "https://localhost:8080/"
        },
        "id": "LXzkB2pzg89J",
        "outputId": "cad1db6a-0721-4329-d65d-5908913d5b97"
      },
      "execution_count": 13,
      "outputs": [
        {
          "output_type": "stream",
          "name": "stdout",
          "text": [
            "(50, 1)\n",
            "(50, 1)\n",
            "(13, 1)\n"
          ]
        }
      ]
    },
    {
      "cell_type": "markdown",
      "source": [
        "## Generation of Custom Datasets"
      ],
      "metadata": {
        "id": "80g1mxv3hCrg"
      }
    },
    {
      "cell_type": "code",
      "source": [
        "import numpy as np\n",
        "\n",
        "X = np.random.random((10, 5))\n",
        "y = np.random.random((10, 2))\n",
        "dataset = dc.data.NumpyDataset(X=X, y=y)\n",
        "dataset.to_dataframe()"
      ],
      "metadata": {
        "colab": {
          "base_uri": "https://localhost:8080/",
          "height": 363
        },
        "id": "cpK8qf9lhKIu",
        "outputId": "8af7fc6f-2250-4cd8-8642-17c01825c851"
      },
      "execution_count": 15,
      "outputs": [
        {
          "output_type": "execute_result",
          "data": {
            "text/plain": [
              "         X1        X2        X3        X4        X5        y1        y2    w  \\\n",
              "0  0.290688  0.334935  0.586817  0.721915  0.168566  0.186410  0.626511  1.0   \n",
              "1  0.084236  0.022929  0.564743  0.162688  0.218657  0.518383  0.056544  1.0   \n",
              "2  0.678170  0.719031  0.950113  0.963679  0.798815  0.775811  0.915999  1.0   \n",
              "3  0.220355  0.678659  0.967092  0.293465  0.242667  0.348655  0.912953  1.0   \n",
              "4  0.311997  0.427651  0.369925  0.309545  0.650012  0.452896  0.397915  1.0   \n",
              "5  0.767783  0.956806  0.856695  0.498917  0.035278  0.446732  0.333616  1.0   \n",
              "6  0.608119  0.940144  0.705194  0.406852  0.700647  0.225698  0.431483  1.0   \n",
              "7  0.341454  0.997788  0.208238  0.109503  0.423640  0.491798  0.377888  1.0   \n",
              "8  0.120179  0.705480  0.903400  0.633186  0.925771  0.175898  0.208549  1.0   \n",
              "9  0.007994  0.791005  0.586123  0.897975  0.767511  0.659343  0.984535  1.0   \n",
              "\n",
              "  ids  \n",
              "0   0  \n",
              "1   1  \n",
              "2   2  \n",
              "3   3  \n",
              "4   4  \n",
              "5   5  \n",
              "6   6  \n",
              "7   7  \n",
              "8   8  \n",
              "9   9  "
            ],
            "text/html": [
              "\n",
              "  <div id=\"df-c104283b-8825-4f27-9cf4-fc9e9388d72e\">\n",
              "    <div class=\"colab-df-container\">\n",
              "      <div>\n",
              "<style scoped>\n",
              "    .dataframe tbody tr th:only-of-type {\n",
              "        vertical-align: middle;\n",
              "    }\n",
              "\n",
              "    .dataframe tbody tr th {\n",
              "        vertical-align: top;\n",
              "    }\n",
              "\n",
              "    .dataframe thead th {\n",
              "        text-align: right;\n",
              "    }\n",
              "</style>\n",
              "<table border=\"1\" class=\"dataframe\">\n",
              "  <thead>\n",
              "    <tr style=\"text-align: right;\">\n",
              "      <th></th>\n",
              "      <th>X1</th>\n",
              "      <th>X2</th>\n",
              "      <th>X3</th>\n",
              "      <th>X4</th>\n",
              "      <th>X5</th>\n",
              "      <th>y1</th>\n",
              "      <th>y2</th>\n",
              "      <th>w</th>\n",
              "      <th>ids</th>\n",
              "    </tr>\n",
              "  </thead>\n",
              "  <tbody>\n",
              "    <tr>\n",
              "      <th>0</th>\n",
              "      <td>0.290688</td>\n",
              "      <td>0.334935</td>\n",
              "      <td>0.586817</td>\n",
              "      <td>0.721915</td>\n",
              "      <td>0.168566</td>\n",
              "      <td>0.186410</td>\n",
              "      <td>0.626511</td>\n",
              "      <td>1.0</td>\n",
              "      <td>0</td>\n",
              "    </tr>\n",
              "    <tr>\n",
              "      <th>1</th>\n",
              "      <td>0.084236</td>\n",
              "      <td>0.022929</td>\n",
              "      <td>0.564743</td>\n",
              "      <td>0.162688</td>\n",
              "      <td>0.218657</td>\n",
              "      <td>0.518383</td>\n",
              "      <td>0.056544</td>\n",
              "      <td>1.0</td>\n",
              "      <td>1</td>\n",
              "    </tr>\n",
              "    <tr>\n",
              "      <th>2</th>\n",
              "      <td>0.678170</td>\n",
              "      <td>0.719031</td>\n",
              "      <td>0.950113</td>\n",
              "      <td>0.963679</td>\n",
              "      <td>0.798815</td>\n",
              "      <td>0.775811</td>\n",
              "      <td>0.915999</td>\n",
              "      <td>1.0</td>\n",
              "      <td>2</td>\n",
              "    </tr>\n",
              "    <tr>\n",
              "      <th>3</th>\n",
              "      <td>0.220355</td>\n",
              "      <td>0.678659</td>\n",
              "      <td>0.967092</td>\n",
              "      <td>0.293465</td>\n",
              "      <td>0.242667</td>\n",
              "      <td>0.348655</td>\n",
              "      <td>0.912953</td>\n",
              "      <td>1.0</td>\n",
              "      <td>3</td>\n",
              "    </tr>\n",
              "    <tr>\n",
              "      <th>4</th>\n",
              "      <td>0.311997</td>\n",
              "      <td>0.427651</td>\n",
              "      <td>0.369925</td>\n",
              "      <td>0.309545</td>\n",
              "      <td>0.650012</td>\n",
              "      <td>0.452896</td>\n",
              "      <td>0.397915</td>\n",
              "      <td>1.0</td>\n",
              "      <td>4</td>\n",
              "    </tr>\n",
              "    <tr>\n",
              "      <th>5</th>\n",
              "      <td>0.767783</td>\n",
              "      <td>0.956806</td>\n",
              "      <td>0.856695</td>\n",
              "      <td>0.498917</td>\n",
              "      <td>0.035278</td>\n",
              "      <td>0.446732</td>\n",
              "      <td>0.333616</td>\n",
              "      <td>1.0</td>\n",
              "      <td>5</td>\n",
              "    </tr>\n",
              "    <tr>\n",
              "      <th>6</th>\n",
              "      <td>0.608119</td>\n",
              "      <td>0.940144</td>\n",
              "      <td>0.705194</td>\n",
              "      <td>0.406852</td>\n",
              "      <td>0.700647</td>\n",
              "      <td>0.225698</td>\n",
              "      <td>0.431483</td>\n",
              "      <td>1.0</td>\n",
              "      <td>6</td>\n",
              "    </tr>\n",
              "    <tr>\n",
              "      <th>7</th>\n",
              "      <td>0.341454</td>\n",
              "      <td>0.997788</td>\n",
              "      <td>0.208238</td>\n",
              "      <td>0.109503</td>\n",
              "      <td>0.423640</td>\n",
              "      <td>0.491798</td>\n",
              "      <td>0.377888</td>\n",
              "      <td>1.0</td>\n",
              "      <td>7</td>\n",
              "    </tr>\n",
              "    <tr>\n",
              "      <th>8</th>\n",
              "      <td>0.120179</td>\n",
              "      <td>0.705480</td>\n",
              "      <td>0.903400</td>\n",
              "      <td>0.633186</td>\n",
              "      <td>0.925771</td>\n",
              "      <td>0.175898</td>\n",
              "      <td>0.208549</td>\n",
              "      <td>1.0</td>\n",
              "      <td>8</td>\n",
              "    </tr>\n",
              "    <tr>\n",
              "      <th>9</th>\n",
              "      <td>0.007994</td>\n",
              "      <td>0.791005</td>\n",
              "      <td>0.586123</td>\n",
              "      <td>0.897975</td>\n",
              "      <td>0.767511</td>\n",
              "      <td>0.659343</td>\n",
              "      <td>0.984535</td>\n",
              "      <td>1.0</td>\n",
              "      <td>9</td>\n",
              "    </tr>\n",
              "  </tbody>\n",
              "</table>\n",
              "</div>\n",
              "      <button class=\"colab-df-convert\" onclick=\"convertToInteractive('df-c104283b-8825-4f27-9cf4-fc9e9388d72e')\"\n",
              "              title=\"Convert this dataframe to an interactive table.\"\n",
              "              style=\"display:none;\">\n",
              "        \n",
              "  <svg xmlns=\"http://www.w3.org/2000/svg\" height=\"24px\"viewBox=\"0 0 24 24\"\n",
              "       width=\"24px\">\n",
              "    <path d=\"M0 0h24v24H0V0z\" fill=\"none\"/>\n",
              "    <path d=\"M18.56 5.44l.94 2.06.94-2.06 2.06-.94-2.06-.94-.94-2.06-.94 2.06-2.06.94zm-11 1L8.5 8.5l.94-2.06 2.06-.94-2.06-.94L8.5 2.5l-.94 2.06-2.06.94zm10 10l.94 2.06.94-2.06 2.06-.94-2.06-.94-.94-2.06-.94 2.06-2.06.94z\"/><path d=\"M17.41 7.96l-1.37-1.37c-.4-.4-.92-.59-1.43-.59-.52 0-1.04.2-1.43.59L10.3 9.45l-7.72 7.72c-.78.78-.78 2.05 0 2.83L4 21.41c.39.39.9.59 1.41.59.51 0 1.02-.2 1.41-.59l7.78-7.78 2.81-2.81c.8-.78.8-2.07 0-2.86zM5.41 20L4 18.59l7.72-7.72 1.47 1.35L5.41 20z\"/>\n",
              "  </svg>\n",
              "      </button>\n",
              "      \n",
              "  <style>\n",
              "    .colab-df-container {\n",
              "      display:flex;\n",
              "      flex-wrap:wrap;\n",
              "      gap: 12px;\n",
              "    }\n",
              "\n",
              "    .colab-df-convert {\n",
              "      background-color: #E8F0FE;\n",
              "      border: none;\n",
              "      border-radius: 50%;\n",
              "      cursor: pointer;\n",
              "      display: none;\n",
              "      fill: #1967D2;\n",
              "      height: 32px;\n",
              "      padding: 0 0 0 0;\n",
              "      width: 32px;\n",
              "    }\n",
              "\n",
              "    .colab-df-convert:hover {\n",
              "      background-color: #E2EBFA;\n",
              "      box-shadow: 0px 1px 2px rgba(60, 64, 67, 0.3), 0px 1px 3px 1px rgba(60, 64, 67, 0.15);\n",
              "      fill: #174EA6;\n",
              "    }\n",
              "\n",
              "    [theme=dark] .colab-df-convert {\n",
              "      background-color: #3B4455;\n",
              "      fill: #D2E3FC;\n",
              "    }\n",
              "\n",
              "    [theme=dark] .colab-df-convert:hover {\n",
              "      background-color: #434B5C;\n",
              "      box-shadow: 0px 1px 3px 1px rgba(0, 0, 0, 0.15);\n",
              "      filter: drop-shadow(0px 1px 2px rgba(0, 0, 0, 0.3));\n",
              "      fill: #FFFFFF;\n",
              "    }\n",
              "  </style>\n",
              "\n",
              "      <script>\n",
              "        const buttonEl =\n",
              "          document.querySelector('#df-c104283b-8825-4f27-9cf4-fc9e9388d72e button.colab-df-convert');\n",
              "        buttonEl.style.display =\n",
              "          google.colab.kernel.accessAllowed ? 'block' : 'none';\n",
              "\n",
              "        async function convertToInteractive(key) {\n",
              "          const element = document.querySelector('#df-c104283b-8825-4f27-9cf4-fc9e9388d72e');\n",
              "          const dataTable =\n",
              "            await google.colab.kernel.invokeFunction('convertToInteractive',\n",
              "                                                     [key], {});\n",
              "          if (!dataTable) return;\n",
              "\n",
              "          const docLinkHtml = 'Like what you see? Visit the ' +\n",
              "            '<a target=\"_blank\" href=https://colab.research.google.com/notebooks/data_table.ipynb>data table notebook</a>'\n",
              "            + ' to learn more about interactive tables.';\n",
              "          element.innerHTML = '';\n",
              "          dataTable['output_type'] = 'display_data';\n",
              "          await google.colab.output.renderOutput(dataTable, element);\n",
              "          const docLink = document.createElement('div');\n",
              "          docLink.innerHTML = docLinkHtml;\n",
              "          element.appendChild(docLink);\n",
              "        }\n",
              "      </script>\n",
              "    </div>\n",
              "  </div>\n",
              "  "
            ]
          },
          "metadata": {},
          "execution_count": 15
        }
      ]
    },
    {
      "cell_type": "markdown",
      "source": [
        "## MoleculeNet Dataset 카테고리\n",
        "\n",
        "- The original MoleculeNet paper [1] provides details about a subset of these papers. We've marked these datasets as \"V1\" below. All remaining dataset are \"V2\" \n",
        "\n",
        "## Quantum Mechanical Datasets\n",
        "\n",
        "- contain various quantum mechanical property prediction tasks. The current set of quantum mechanical datasets includes QM7, QM7b, QM8, QM9. The associated loaders are \n",
        "\n",
        "- [`dc.molnet.load_qm7`](https://deepchem.readthedocs.io/en/latest/moleculenet.html#deepchem.molnet.load_qm7): V1\n",
        "- [`dc.molnet.load_qm7b_from_mat`](https://deepchem.readthedocs.io/en/latest/moleculenet.html#deepchem.molnet.load_qm7): V1\n",
        "- [`dc.molnet.load_qm8`](https://deepchem.readthedocs.io/en/latest/moleculenet.html#deepchem.molnet.load_qm8): V1\n",
        "- [`dc.molnet.load_qm9`](https://deepchem.readthedocs.io/en/latest/moleculenet.html#deepchem.molnet.load_qm9): V1\n",
        "\n",
        "## Physical Chemistry Datasets\n",
        "\n",
        "- contain a variety of tasks for predicting various physical properties of molecules.\n",
        "\n",
        "- [`dc.molnet.load_delaney`](https://deepchem.readthedocs.io/en/latest/moleculenet.html#deepchem.molnet.load_delaney): V1. This dataset is also referred to as ESOL in the original  paper.\n",
        "- [`dc.molnet.load_sampl`](https://deepchem.readthedocs.io/en/latest/moleculenet.html#deepchem.molnet.load_sampl): V1. This dataset is also referred to as FreeSolv in the original  paper.\n",
        "- [`dc.molnet.load_lipo`](https://deepchem.readthedocs.io/en/latest/moleculenet.html#deepchem.molnet.load_lipo): V1. This dataset is also referred to as Lipophilicity in the original  paper.\n",
        "- [`dc.molnet.load_thermosol`](https://deepchem.readthedocs.io/en/latest/moleculenet.html#deepchem.molnet.load_thermosol): V2.\n",
        "- [`dc.molnet.load_hppb`](https://deepchem.readthedocs.io/en/latest/moleculenet.html#deepchem.molnet.load_hppb): V2.\n",
        "- [`dc.molnet.load_hopv`](https://deepchem.readthedocs.io/en/latest/moleculenet.html#deepchem.molnet.load_hopv): V2. This dataset is drawn from a recent publication [3]\n",
        "\n",
        "## Chemical Reaction Datasets\n",
        "\n",
        "- chemical reaction datasets for use in computational retrosynthesis / forward synthesis.\n",
        "\n",
        "- [`dc.molnet.load_uspto`](https://deepchem.readthedocs.io/en/latest/moleculenet.html#deepchem.molnet.load_uspto)\n",
        "\n",
        "## Biochemical/Biophysical Datasets\n",
        "\n",
        "- e.g., the binding affinity of compounds to proteins.\n",
        "\n",
        "- [`dc.molnet.load_pcba`](https://deepchem.readthedocs.io/en/latest/moleculenet.html#deepchem.molnet.load_pcba): V1\n",
        "- [`dc.molnet.load_nci`](https://deepchem.readthedocs.io/en/latest/moleculenet.html#deepchem.molnet.load_nci): V2.\n",
        "- [`dc.molnet.load_muv`](https://deepchem.readthedocs.io/en/latest/moleculenet.html#deepchem.molnet.load_muv): V1\n",
        "- [`dc.molnet.load_hiv`](https://deepchem.readthedocs.io/en/latest/moleculenet.html#deepchem.molnet.load_hiv): V1\n",
        "- [`dc.molnet.load_ppb`](https://deepchem.readthedocs.io/en/latest/moleculenet.html#ppb-datasets): V2.\n",
        "- [`dc.molnet.load_bace_classification`](https://deepchem.readthedocs.io/en/latest/moleculenet.html#deepchem.molnet.load_bace_classification): V1. This loader loads the classification task for the BACE dataset from the original MoleculeNet paper.\n",
        "- [`dc.molnet.load_bace_regression`](https://deepchem.readthedocs.io/en/latest/moleculenet.html#deepchem.molnet.load_bace_regression): V1. This loader loads the regression task for the BACE dataset from the original MoleculeNet paper.\n",
        "- [`dc.molnet.load_kaggle`](https://deepchem.readthedocs.io/en/latest/moleculenet.html#deepchem.molnet.load_kaggle): V2. This dataset is from Merck's drug discovery kaggle contest and is described in [4].\n",
        "- [`dc.molnet.load_factors`](https://deepchem.readthedocs.io/en/latest/moleculenet.html#deepchem.molnet.load_factors): V2. This dataset is from [4].\n",
        "- [`dc.molnet.load_uv`](https://deepchem.readthedocs.io/en/latest/moleculenet.html#deepchem.molnet.load_uv): V2. This dataset is from [4].\n",
        "- [`dc.molnet.load_kinase`](https://deepchem.readthedocs.io/en/latest/moleculenet.html#deepchem.molnet.load_kinase): V2. This datset is from [4].\n",
        "\n",
        "## Molecular Catalog Datasets\n",
        "\n",
        "These datasets provide molecular datasets which have no associated properties beyond the raw SMILES formula or structure. These types of datasets are useful for generative modeling tasks.\n",
        "\n",
        "- [`dc.molnet.load_zinc15`](https://deepchem.readthedocs.io/en/latest/moleculenet.html#deepchem.molnet.load_zinc15): V2\n",
        "- [`dc.molnet.load_chembl`](https://deepchem.readthedocs.io/en/latest/moleculenet.html#deepchem.molnet.load_chembl): V2\n",
        "- [`dc.molnet.load_chembl25`](https://deepchem.readthedocs.io/en/latest/moleculenet.html#chembl25-datasets): V2\n",
        "\n",
        "## Physiology Datasets\n",
        "\n",
        "These datasets measure physiological properties of how molecules interact with human patients.\n",
        "\n",
        "- [`dc.molnet.load_bbbp`](https://deepchem.readthedocs.io/en/latest/moleculenet.html#deepchem.molnet.load_bbbp): V1\n",
        "- [`dc.molnet.load_tox21`](https://deepchem.readthedocs.io/en/latest/moleculenet.html#deepchem.molnet.load_tox21): V1\n",
        "- [`dc.molnet.load_toxcast`](https://deepchem.readthedocs.io/en/latest/moleculenet.html#deepchem.molnet.load_toxcast): V1\n",
        "- [`dc.molnet.load_sider`](https://deepchem.readthedocs.io/en/latest/moleculenet.html#deepchem.molnet.load_sider): V1\n",
        "- [`dc.molnet.load_clintox`](https://deepchem.readthedocs.io/en/latest/moleculenet.html#deepchem.molnet.load_clintox): V1\n",
        "- [`dc.molnet.load_clearance`](https://deepchem.readthedocs.io/en/latest/moleculenet.html#deepchem.molnet.load_clearance): V2.\n",
        "\n",
        "## Structural Biology Datasets\n",
        "\n",
        "These datasets contain 3D structures of macromolecules along with associated properties.\n",
        "\n",
        "- [`dc.molnet.load_pdbbind`](https://deepchem.readthedocs.io/en/latest/moleculenet.html#deepchem.molnet.load_pdbbind): V1\n",
        "\n",
        "\n",
        "## Microscopy Datasets\n",
        "\n",
        "These datasets contain microscopy image datasets, typically of cell lines. These datasets were not in the original MoleculeNet paper.\n",
        "\n",
        "- [`dc.molnet.load_bbbc001`](https://deepchem.readthedocs.io/en/latest/moleculenet.html#deepchem.molnet.load_bbbc001): V2\n",
        "- [`dc.molnet.load_bbbc002`](https://deepchem.readthedocs.io/en/latest/moleculenet.html#deepchem.molnet.load_bbbc002): V2\n",
        "- [`dc.molnet.load_cell_counting`](https://deepchem.readthedocs.io/en/latest/moleculenet.html#cell-counting-datasets): V2\n",
        "\n",
        "## Materials Properties Datasets\n",
        "\n",
        "These datasets compute properties of various materials.\n",
        "\n",
        "- [`dc.molnet.load_bandgap`](https://deepchem.readthedocs.io/en/latest/moleculenet.html#deepchem.molnet.load_bandgap): V2\n",
        "- [`dc.molnet.load_perovskite`](https://deepchem.readthedocs.io/en/latest/moleculenet.html#deepchem.molnet.load_perovskite): V2\n",
        "- [`dc.molnet.load_mp_formation_energy`](https://deepchem.readthedocs.io/en/latest/moleculenet.html#deepchem.molnet.load_mp_formation_energy): V2\n",
        "- [`dc.molnet.load_mp_metallicity`](https://deepchem.readthedocs.io/en/latest/moleculenet.html#deepchem.molnet.load_mp_metallicity): V2\n",
        "\n",
        "[1] Wu, Zhenqin, et al. \"MoleculeNet: a benchmark for molecular machine learning.\" Chemical science 9.2 (2018): 513-530.\n",
        "\n",
        "[3] Lopez, Steven A., et al. \"The Harvard organic photovoltaic dataset.\" Scientific data 3.1 (2016): 1-7.\n",
        "\n",
        "[4] Ramsundar, Bharath, et al. \"Is multitask deep learning practical for pharma?.\" Journal of chemical information and modeling 57.8 (2017): 2068-2076."
      ],
      "metadata": {
        "id": "-SyiAXfohJXB"
      }
    },
    {
      "cell_type": "markdown",
      "source": [
        "## Dataset and prediction using simple DC models\n",
        "\n",
        "The “Toxicology in the 21st Century” (Tox21) initiative created a public database measuring toxicity of compounds, which has been used in the 2014 Tox21 Data Challenge. This dataset contains qualitative toxicity measurements for 8k compounds on 12 different targets, including nuclear receptors and stress response pathways."
      ],
      "metadata": {
        "id": "aHcPpA7fhkpX"
      }
    },
    {
      "cell_type": "code",
      "source": [
        "tasks, datasets, transforms = dc.molnet.load_tox21(featurizer='ECFP')\n",
        "train_dataset, val_dataset, test_dataset = datasets"
      ],
      "metadata": {
        "colab": {
          "base_uri": "https://localhost:8080/"
        },
        "id": "227SYSgzijHi",
        "outputId": "cea60849-89b6-457a-adad-919a57824af9"
      },
      "execution_count": 18,
      "outputs": [
        {
          "output_type": "execute_result",
          "data": {
            "text/plain": [
              "6264"
            ]
          },
          "metadata": {},
          "execution_count": 18
        }
      ]
    },
    {
      "cell_type": "code",
      "source": [
        "train_dataset.to_dataframe().shape"
      ],
      "metadata": {
        "colab": {
          "base_uri": "https://localhost:8080/"
        },
        "id": "NEUXwaU5i0XK",
        "outputId": "649a8e6a-3002-4461-bbf6-233afa03ccf5"
      },
      "execution_count": 20,
      "outputs": [
        {
          "output_type": "execute_result",
          "data": {
            "text/plain": [
              "(6264, 1049)"
            ]
          },
          "metadata": {},
          "execution_count": 20
        }
      ]
    },
    {
      "cell_type": "code",
      "source": [
        "train_dataset.y.shape"
      ],
      "metadata": {
        "colab": {
          "base_uri": "https://localhost:8080/"
        },
        "id": "LMinTOLfi_ei",
        "outputId": "65488efc-5a85-48ae-ef15-b16dd78d4283"
      },
      "execution_count": 22,
      "outputs": [
        {
          "output_type": "execute_result",
          "data": {
            "text/plain": [
              "(6264, 12)"
            ]
          },
          "metadata": {},
          "execution_count": 22
        }
      ]
    },
    {
      "cell_type": "code",
      "source": [
        "model = dc.models.MultitaskClassifier(n_tasks=12, n_features=1024, layer_sizes=[512], )\n",
        "model.fit(train_dataset, nb_epoch=10)"
      ],
      "metadata": {
        "colab": {
          "base_uri": "https://localhost:8080/"
        },
        "id": "hX5NqZagjBg3",
        "outputId": "cdc92b8b-0b90-4a60-d53d-6bbe01ed6fac"
      },
      "execution_count": 36,
      "outputs": [
        {
          "output_type": "execute_result",
          "data": {
            "text/plain": [
              "0.5265356381734212"
            ]
          },
          "metadata": {},
          "execution_count": 36
        }
      ]
    },
    {
      "cell_type": "code",
      "source": [
        "metric1 = dc.metrics.Metric(dc.metrics.roc_auc_score)\n",
        "metric2 = dc.metrics.Metric(dc.metrics.accuracy_score)\n",
        "print('training set score:', model.evaluate(train_dataset, [metric1, metric2]))\n",
        "print('test set score:', model.evaluate(test_dataset, [metric1, metric2]))"
      ],
      "metadata": {
        "colab": {
          "base_uri": "https://localhost:8080/"
        },
        "id": "E200lfiZjHKz",
        "outputId": "f8e7ee2b-5b72-4a7b-a0d2-ff9f1d01aa7e"
      },
      "execution_count": 38,
      "outputs": [
        {
          "output_type": "stream",
          "name": "stdout",
          "text": [
            "training set score: {'roc_auc_score': 0.9539797618856087, 'accuracy_score': 0.8621753937845891}\n",
            "test set score: {'roc_auc_score': 0.6908563865619751, 'accuracy_score': 0.7955994897959183}\n"
          ]
        }
      ]
    },
    {
      "cell_type": "code",
      "source": [
        ""
      ],
      "metadata": {
        "id": "c6C3odnFjIH1"
      },
      "execution_count": null,
      "outputs": []
    }
  ]
}