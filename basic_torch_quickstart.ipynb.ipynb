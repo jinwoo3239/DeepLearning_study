{
  "nbformat": 4,
  "nbformat_minor": 0,
  "metadata": {
    "colab": {
      "name": "Untitled1.ipynb",
      "provenance": [],
      "authorship_tag": "ABX9TyMG++9yHE1zh8kXoJel1eBq",
      "include_colab_link": true
    },
    "kernelspec": {
      "name": "python3",
      "display_name": "Python 3"
    },
    "language_info": {
      "name": "python"
    }
  },
  "cells": [
    {
      "cell_type": "markdown",
      "metadata": {
        "id": "view-in-github",
        "colab_type": "text"
      },
      "source": [
        "<a href=\"https://colab.research.google.com/github/jinwoo3239/DeepLearning_study/blob/main/basic_torch_quickstart.ipynb.ipynb\" target=\"_parent\"><img src=\"https://colab.research.google.com/assets/colab-badge.svg\" alt=\"Open In Colab\"/></a>"
      ]
    },
    {
      "cell_type": "code",
      "execution_count": 16,
      "metadata": {
        "id": "56xwTR9vlI43"
      },
      "outputs": [],
      "source": [
        "import torch\n",
        "import torch.nn as nn\n",
        "import torch.nn.functional as F\n",
        "from torch.utils.data import DataLoader\n",
        "\n",
        "from torchvision import datasets\n",
        "from torchvision.transforms import ToTensor"
      ]
    },
    {
      "cell_type": "code",
      "source": [
        "print(torch.__version__)"
      ],
      "metadata": {
        "colab": {
          "base_uri": "https://localhost:8080/"
        },
        "id": "HT2eoNRKl3Tw",
        "outputId": "1da9f56e-66a6-4f06-acd7-e9bfda9f24db"
      },
      "execution_count": 2,
      "outputs": [
        {
          "output_type": "stream",
          "name": "stdout",
          "text": [
            "1.12.1+cu113\n"
          ]
        }
      ]
    },
    {
      "cell_type": "code",
      "source": [
        "import os\n",
        "path = os.path.join(os.getcwd(), 'data')\n",
        "path"
      ],
      "metadata": {
        "colab": {
          "base_uri": "https://localhost:8080/",
          "height": 36
        },
        "id": "kx45raYvmugm",
        "outputId": "67b57d00-ccbb-4645-82ba-ed1b19101ec0"
      },
      "execution_count": 9,
      "outputs": [
        {
          "output_type": "execute_result",
          "data": {
            "text/plain": [
              "'/content/data'"
            ],
            "application/vnd.google.colaboratory.intrinsic+json": {
              "type": "string"
            }
          },
          "metadata": {},
          "execution_count": 9
        }
      ]
    },
    {
      "cell_type": "code",
      "source": [
        "train_data = datasets.FashionMNIST(root='data', train=True, transform=ToTensor(), download=True)\n",
        "test_data = datasets.FashionMNIST(root='data', train=True, transform=ToTensor(), download=True)"
      ],
      "metadata": {
        "id": "0QhQKyV3l8Jp"
      },
      "execution_count": null,
      "outputs": []
    },
    {
      "cell_type": "code",
      "source": [
        "batch_size = 64\n",
        "\n",
        "train_dataloader = DataLoader(train_data, batch_size=batch_size, shuffle=True, drop_last=True)\n",
        "test_dataloader = DataLoader(test_data, batch_size=batch_size)\n",
        "\n",
        "len(train_dataloader)"
      ],
      "metadata": {
        "colab": {
          "base_uri": "https://localhost:8080/"
        },
        "id": "Rr6hMoYmmjXC",
        "outputId": "22a253a8-48d1-4bd0-833d-c3626566263d"
      },
      "execution_count": 11,
      "outputs": [
        {
          "output_type": "execute_result",
          "data": {
            "text/plain": [
              "937"
            ]
          },
          "metadata": {},
          "execution_count": 11
        }
      ]
    },
    {
      "cell_type": "code",
      "source": [
        "samples = next(iter(train_dataloader))\n",
        "samples[0].shape"
      ],
      "metadata": {
        "colab": {
          "base_uri": "https://localhost:8080/"
        },
        "id": "x7tTOjCtn48I",
        "outputId": "ffb09f3e-c3d2-4e46-c729-7e8501691ff2"
      },
      "execution_count": 14,
      "outputs": [
        {
          "output_type": "execute_result",
          "data": {
            "text/plain": [
              "torch.Size([64, 1, 28, 28])"
            ]
          },
          "metadata": {},
          "execution_count": 14
        }
      ]
    },
    {
      "cell_type": "code",
      "source": [
        "DEVICE = torch.device('cuda' if torch.cuda.is_available() else 'cpu')\n",
        "\n",
        "class MyModel(nn.Module):\n",
        "    def __init__(self, ):\n",
        "        super(MyModel, self).__init__()\n",
        "        self.conv1 = nn.Conv2d(1, 32, 3, padding=1) # 1, 28, 28 > 32, 28, 28\n",
        "        self.pool = nn.MaxPool2d(2) # 32, 7, 7\n",
        "        self.flatten = nn.Flatten() # 32 * 7 * 7\n",
        "        self.dense1 = nn.Linear(32*7*7, 128)\n",
        "        self.dense2 = nn.Linear(128, 10)\n",
        "\n",
        "        # self.relu = nn.ReLU()\n",
        "        # self.softmax = nn.Softmax()\n",
        "\n",
        "        # self.layer1 = nn.Sequential(nn.Conv2d(), nn.ReLU(), nn.Maxpool2d)\n",
        "        # self.flatten = nn.Flatten()\n",
        "        # self.dense_layer = nn.Sequential(nn.Linear(), nn.ReLU(), nn.Linear(), nn.Softmax())\n",
        "\n",
        "    def forward(self, x):\n",
        "        x = F.relu(self.conv1(x))\n",
        "        x = self.pool(x)\n",
        "        x = self.flatten(x)\n",
        "        x = F.relu(self.dense1(x))\n",
        "        output = F.softmax(self.dense2(x))\n",
        "        return output\n",
        "\n",
        "\n",
        "model = MyModel().to(DEVICE)"
      ],
      "metadata": {
        "id": "tkZLS0o3n9sd"
      },
      "execution_count": 19,
      "outputs": []
    },
    {
      "cell_type": "code",
      "source": [
        "loss_fn = nn.CrossEntropyLoss()\n",
        "optimizer = torch.optim.SGD(model.parameters(), lr=1e-3)"
      ],
      "metadata": {
        "id": "s2SeWjFgo6Fg"
      },
      "execution_count": 21,
      "outputs": []
    },
    {
      "cell_type": "code",
      "source": [
        "def train_step(dataloader, model, loss_fn, optimizer):\n",
        "    model.train()\n",
        "    for images, labels in dataloader:\n",
        "        images, labels = images.to(DEVICE), labels.to(DEVICE)\n",
        "\n",
        "        pred = model(images)\n",
        "        loss = loss_fn(pred, labels)\n",
        "\n",
        "        optimizer.zero_grad()\n",
        "        loss.backward()\n",
        "        optimizer.step()"
      ],
      "metadata": {
        "id": "B_il80YSsk15"
      },
      "execution_count": 23,
      "outputs": []
    },
    {
      "cell_type": "code",
      "source": [
        "def test_step(dataloader, model, loss_fn):\n",
        "\n",
        "    model.test()\n",
        "\n",
        "    with torch.no_grad()\n",
        "    for images, labels in dataloader:\n",
        "        images, labels = images.to(DEVICE), labels.to(DEVICE)\n",
        "\n",
        "        pred = model(images)\n",
        "        "
      ],
      "metadata": {
        "id": "DgOCzvoouoAV"
      },
      "execution_count": null,
      "outputs": []
    }
  ]
}